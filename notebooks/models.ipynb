{
 "cells": [
  {
   "cell_type": "code",
   "execution_count": 1,
   "outputs": [],
   "source": [
    "from tqdm import tqdm\n",
    "import torch\n",
    "import torch.nn as nn\n",
    "from torchvision import utils\n",
    "from torch.utils import data\n",
    "from torchvision.datasets import ImageFolder\n",
    "from torchvision import transforms"
   ],
   "metadata": {
    "collapsed": false,
    "pycharm": {
     "name": "#%%\n"
    }
   }
  },
  {
   "cell_type": "code",
   "execution_count": 2,
   "outputs": [],
   "source": [
    "train_transforms = transforms.Compose([\n",
    "    transforms.Resize(256),\n",
    "    transforms.RandomHorizontalFlip(),\n",
    "    transforms.RandomRotation(30),\n",
    "    transforms.Grayscale(),\n",
    "    transforms.ToTensor(),\n",
    "])"
   ],
   "metadata": {
    "collapsed": false,
    "pycharm": {
     "name": "#%%\n"
    }
   }
  },
  {
   "cell_type": "code",
   "execution_count": 3,
   "outputs": [
    {
     "data": {
      "text/plain": "Dataset ImageFolder\n    Number of datapoints: 1600\n    Root location: ../data/train-cat-rabbit\n    StandardTransform\nTransform: Compose(\n               Resize(size=256, interpolation=bilinear, max_size=None, antialias=None)\n               RandomHorizontalFlip(p=0.5)\n               RandomRotation(degrees=[-30.0, 30.0], interpolation=nearest, expand=False, fill=0)\n               Grayscale(num_output_channels=1)\n               ToTensor()\n           )"
     },
     "execution_count": 3,
     "metadata": {},
     "output_type": "execute_result"
    }
   ],
   "source": [
    "train_dataset = ImageFolder('../data/train-cat-rabbit', transform=train_transforms)\n",
    "train_dataset"
   ],
   "metadata": {
    "collapsed": false,
    "pycharm": {
     "name": "#%%\n"
    }
   }
  },
  {
   "cell_type": "code",
   "execution_count": 41,
   "outputs": [
    {
     "data": {
      "text/plain": "Dataset ImageFolder\n    Number of datapoints: 15\n    Root location: ../data/test-images\n    StandardTransform\nTransform: Compose(\n               Resize(size=(256, 256), interpolation=bilinear, max_size=None, antialias=None)\n               Grayscale(num_output_channels=1)\n               ToTensor()\n           )"
     },
     "execution_count": 41,
     "metadata": {},
     "output_type": "execute_result"
    }
   ],
   "source": [
    "test_transforms = transforms.Compose([\n",
    "    transforms.Resize((256, 256)),\n",
    "    transforms.Grayscale(),\n",
    "    transforms.ToTensor(),\n",
    "])\n",
    "test_dataset = ImageFolder('../data/test-images', transform=test_transforms)\n",
    "test_dataset"
   ],
   "metadata": {
    "collapsed": false,
    "pycharm": {
     "name": "#%%\n"
    }
   }
  },
  {
   "cell_type": "code",
   "execution_count": 42,
   "outputs": [
    {
     "data": {
      "text/plain": "Dataset ImageFolder\n    Number of datapoints: 414\n    Root location: ../data/val-cat-rabbit/\n    StandardTransform\nTransform: Compose(\n               Resize(size=256, interpolation=bilinear, max_size=None, antialias=None)\n               Grayscale(num_output_channels=1)\n               ToTensor()\n           )"
     },
     "execution_count": 42,
     "metadata": {},
     "output_type": "execute_result"
    }
   ],
   "source": [
    "validation_transforms = transforms.Compose([\n",
    "    transforms.Resize(256),\n",
    "    transforms.Grayscale(),\n",
    "    transforms.ToTensor(),\n",
    "])\n",
    "val_dataset = ImageFolder('../data/val-cat-rabbit/', transform=validation_transforms)\n",
    "val_dataset"
   ],
   "metadata": {
    "collapsed": false,
    "pycharm": {
     "name": "#%%\n"
    }
   }
  },
  {
   "cell_type": "code",
   "execution_count": 43,
   "outputs": [],
   "source": [
    "BATCH_SIZE = 64\n",
    "train_loader = data.DataLoader(train_dataset,BATCH_SIZE,True)\n",
    "test_loader = data.DataLoader(test_dataset,BATCH_SIZE)\n",
    "val_loader = data.DataLoader(val_dataset,BATCH_SIZE,True)"
   ],
   "metadata": {
    "collapsed": false,
    "pycharm": {
     "name": "#%%\n"
    }
   }
  },
  {
   "cell_type": "code",
   "execution_count": 7,
   "outputs": [
    {
     "data": {
      "text/plain": "[tensor([[[[0.0000, 0.0000, 0.0000,  ..., 0.0000, 0.0000, 0.0000],\n           [0.0000, 0.0000, 0.0000,  ..., 0.0000, 0.0000, 0.0000],\n           [0.0000, 0.0000, 0.0000,  ..., 0.0000, 0.0000, 0.0000],\n           ...,\n           [0.0000, 0.0000, 0.0000,  ..., 0.0000, 0.0000, 0.0000],\n           [0.0000, 0.0000, 0.0000,  ..., 0.0000, 0.0000, 0.0000],\n           [0.0000, 0.0000, 0.0000,  ..., 0.0000, 0.0000, 0.0000]]],\n \n \n         [[[0.0000, 0.0000, 0.3569,  ..., 0.0000, 0.0000, 0.0000],\n           [0.0000, 0.0000, 0.3608,  ..., 0.0000, 0.0000, 0.0000],\n           [0.0000, 0.0000, 0.3647,  ..., 0.3647, 0.3569, 0.3451],\n           ...,\n           [0.3176, 0.3451, 0.3647,  ..., 0.3020, 0.0000, 0.0000],\n           [0.0000, 0.0000, 0.0000,  ..., 0.2353, 0.0000, 0.0000],\n           [0.0000, 0.0000, 0.0000,  ..., 0.2745, 0.0000, 0.0000]]],\n \n \n         [[[0.0000, 0.0000, 0.0000,  ..., 0.0000, 0.0000, 0.0000],\n           [0.0000, 0.0000, 0.0000,  ..., 0.0000, 0.0000, 0.0000],\n           [0.0000, 0.0000, 0.0000,  ..., 0.0000, 0.0000, 0.0000],\n           ...,\n           [0.0000, 0.0000, 0.0000,  ..., 0.0000, 0.0000, 0.0000],\n           [0.0000, 0.0000, 0.0000,  ..., 0.0000, 0.0000, 0.0000],\n           [0.0000, 0.0000, 0.0000,  ..., 0.0000, 0.0000, 0.0000]]],\n \n \n         ...,\n \n \n         [[[0.0000, 0.0000, 0.0000,  ..., 0.0000, 0.0000, 0.0000],\n           [0.0000, 0.0000, 0.0000,  ..., 0.0000, 0.0000, 0.0000],\n           [0.0000, 0.0000, 0.0000,  ..., 0.0000, 0.0000, 0.0000],\n           ...,\n           [0.0000, 0.0000, 0.0000,  ..., 0.0000, 0.0000, 0.0000],\n           [0.0000, 0.0000, 0.0000,  ..., 0.0000, 0.0000, 0.0000],\n           [0.0000, 0.0000, 0.0000,  ..., 0.0000, 0.0000, 0.0000]]],\n \n \n         [[[0.0000, 0.0000, 0.0000,  ..., 0.0000, 0.0000, 0.0000],\n           [0.0000, 0.0000, 0.0000,  ..., 0.0000, 0.0000, 0.0000],\n           [0.0000, 0.0000, 0.0000,  ..., 0.0000, 0.0000, 0.0000],\n           ...,\n           [0.0000, 0.0000, 0.0000,  ..., 0.0000, 0.0000, 0.0000],\n           [0.0000, 0.0000, 0.0000,  ..., 0.0000, 0.0000, 0.0000],\n           [0.0000, 0.0000, 0.0000,  ..., 0.0000, 0.0000, 0.0000]]],\n \n \n         [[[0.0000, 0.0000, 0.0000,  ..., 0.0000, 0.0000, 0.0000],\n           [0.0000, 0.0000, 0.0000,  ..., 0.0000, 0.0000, 0.0000],\n           [0.0000, 0.0000, 0.0000,  ..., 0.0000, 0.0000, 0.0000],\n           ...,\n           [0.0000, 0.0000, 0.0000,  ..., 0.0000, 0.0000, 0.0000],\n           [0.0000, 0.0000, 0.0000,  ..., 0.0000, 0.0000, 0.0000],\n           [0.0000, 0.0000, 0.0000,  ..., 0.0000, 0.0000, 0.0000]]]]),\n tensor([1, 1, 0, 1, 1, 0, 0, 1, 1, 0, 0, 0, 0, 0, 0, 1, 0, 1, 0, 0, 1, 1, 1, 1,\n         1, 0, 1, 0, 1, 1, 1, 1, 1, 1, 1, 1, 1, 0, 0, 1, 1, 0, 0, 1, 1, 0, 1, 1,\n         0, 0, 1, 1, 0, 1, 1, 0, 1, 1, 1, 0, 1, 1, 0, 0])]"
     },
     "execution_count": 7,
     "metadata": {},
     "output_type": "execute_result"
    }
   ],
   "source": [
    "sample_train = train_loader.__iter__().__next__()\n",
    "sample_train"
   ],
   "metadata": {
    "collapsed": false,
    "pycharm": {
     "name": "#%%\n"
    }
   }
  },
  {
   "cell_type": "code",
   "execution_count": 8,
   "outputs": [
    {
     "data": {
      "text/plain": "torch.Size([16, 1, 256, 256])"
     },
     "execution_count": 8,
     "metadata": {},
     "output_type": "execute_result"
    }
   ],
   "source": [
    "sample_train[0][:16].shape"
   ],
   "metadata": {
    "collapsed": false,
    "pycharm": {
     "name": "#%%\n"
    }
   }
  },
  {
   "cell_type": "code",
   "execution_count": 9,
   "outputs": [
    {
     "data": {
      "text/plain": "(2066, 2066, 3)"
     },
     "execution_count": 9,
     "metadata": {},
     "output_type": "execute_result"
    }
   ],
   "source": [
    "grid = utils.make_grid(sample_train[0]).detach().numpy().transpose([1,2,0])\n",
    "grid.shape"
   ],
   "metadata": {
    "collapsed": false,
    "pycharm": {
     "name": "#%%\n"
    }
   }
  },
  {
   "cell_type": "code",
   "execution_count": 10,
   "outputs": [],
   "source": [
    "# from skimage.viewer import ImageViewer\n",
    "# ImageViewer(grid).show()"
   ],
   "metadata": {
    "collapsed": false,
    "pycharm": {
     "name": "#%%\n"
    }
   }
  },
  {
   "cell_type": "code",
   "execution_count": 11,
   "outputs": [],
   "source": [
    "class ConvNet(nn.Module):\n",
    "    def __init__(self):\n",
    "        super(ConvNet, self).__init__()\n",
    "        self.conv_1 = nn.Conv2d(1,32,3)\n",
    "        self.conv_2 = nn.Conv2d(32,64,4)\n",
    "        self.conv_3 = nn.Conv2d(64, 128, 3)\n",
    "        self.avg_pool = nn.AvgPool2d(2)\n",
    "        self.dense_1 = nn.Linear(128*30*30,64)\n",
    "        self.dense_2 = nn.Linear(64,1)\n",
    "        self.dropout = nn.Dropout(0.2)\n",
    "\n",
    "    def forward(self, x):\n",
    "        x = nn.functional.relu(self.conv_1(x))\n",
    "        x = self.avg_pool(x)\n",
    "        x = self.dropout(x)\n",
    "\n",
    "        x = nn.functional.relu(self.conv_2(x))\n",
    "        x = self.avg_pool(x)\n",
    "        x = self.dropout(x)\n",
    "\n",
    "        x = nn.functional.relu(self.conv_3(x))\n",
    "        x = self.avg_pool(x)\n",
    "        x = self.dropout(x)\n",
    "        x = nn.Flatten()(x)\n",
    "        x = nn.functional.relu(self.dense_1(x))\n",
    "\n",
    "        x = self.dense_2(x)\n",
    "        return torch.sigmoid(x)\n",
    "\n",
    "model = ConvNet()\n",
    "# load_data = torch.load('../models/model_checkpoint.pt')\n",
    "# model.load_state_dict(load_data['model'])"
   ],
   "metadata": {
    "collapsed": false,
    "pycharm": {
     "name": "#%%\n"
    }
   }
  },
  {
   "cell_type": "code",
   "execution_count": 12,
   "outputs": [],
   "source": [
    "optimizer = torch.optim.Adam(model.parameters(),0.001, weight_decay=0.00001)\n",
    "# optimizer.load_state_dict(load_data['optimizers'])\n",
    "criterion = nn.BCELoss()"
   ],
   "metadata": {
    "collapsed": false,
    "pycharm": {
     "name": "#%%\n"
    }
   }
  },
  {
   "cell_type": "code",
   "execution_count": 13,
   "outputs": [],
   "source": [
    "def train(model, optimizer, criterion, data_loader, epoch:list[int,int],decay=1e-7,mode='train'):\n",
    "    pbar = tqdm(data_loader)\n",
    "    pbar.set_description_str(f'Epoch {epoch[0]}/{epoch[1]} ({mode})')\n",
    "    running_loss = 0.0\n",
    "    running_accurate = 0\n",
    "    batch = None\n",
    "    for images, labels in pbar:\n",
    "        labels = labels.view((-1,1)).float()\n",
    "        if mode == 'train':\n",
    "            model.train()\n",
    "            optimizer.zero_grad()\n",
    "        else:\n",
    "            model.eval()\n",
    "        outs = model(images)\n",
    "        preds = torch.round(outs)\n",
    "        accurate = (preds == labels).sum()\n",
    "        running_accurate += accurate\n",
    "        if batch is None:\n",
    "            batch = labels.size(0)\n",
    "        accuracy = accurate / labels.size(0)\n",
    "        loss = criterion(outs, labels)\n",
    "        reg_loss = 0.0\n",
    "        for param in model.parameters():\n",
    "            reg_loss += torch.norm(param,2) * decay\n",
    "        loss += reg_loss\n",
    "        running_loss += loss\n",
    "\n",
    "        if mode == 'train':\n",
    "            loss.backward()\n",
    "            optimizer.step()\n",
    "        pbar.set_postfix({'loss':loss.item(),'accuracy':accuracy.item()})\n",
    "\n",
    "    epoch_accuracy = running_accurate.item() / (len(data_loader) * batch)\n",
    "    print(f'{mode}_loss: {running_loss.item():.4f}, {mode}_accuracy: {epoch_accuracy*100:.4f}%')\n",
    "    return running_loss.item(), epoch_accuracy"
   ],
   "metadata": {
    "collapsed": false,
    "pycharm": {
     "name": "#%%\n"
    }
   }
  },
  {
   "cell_type": "code",
   "execution_count": 14,
   "outputs": [],
   "source": [
    "def fit(model, optimizer, criterion, train_loader, validation_loader, epochs, decay=1e-7):\n",
    "    train_info = {'loss':[],'accuracy':[], 'loss_val':[],'accuracy_val':[]}\n",
    "    for epoch in range(1, epochs+1):\n",
    "        loss, accuracy = train(model, optimizer, criterion, train_loader,[epoch, epochs],decay,'train')\n",
    "        train_info['loss'].append(loss)\n",
    "        train_info['accuracy'].append(accuracy)\n",
    "        val_loss, val_accuracy = train(model, optimizer, criterion, validation_loader,[epoch, epochs],decay,'validation')\n",
    "        train_info['loss_val'].append(val_loss)\n",
    "        train_info['accuracy_val'].append(val_accuracy)\n",
    "    return train_info"
   ],
   "metadata": {
    "collapsed": false,
    "pycharm": {
     "name": "#%%\n"
    }
   }
  },
  {
   "cell_type": "code",
   "execution_count": 15,
   "outputs": [
    {
     "name": "stderr",
     "output_type": "stream",
     "text": [
      "Epoch 1/50 (train): 100%|██████████| 25/25 [01:59<00:00,  4.79s/it, loss=0.645, accuracy=0.594]\n"
     ]
    },
    {
     "name": "stdout",
     "output_type": "stream",
     "text": [
      "train_loss: 17.2293, train_accuracy: 59.5000%\n"
     ]
    },
    {
     "name": "stderr",
     "output_type": "stream",
     "text": [
      "Epoch 1/50 (validation): 100%|██████████| 7/7 [00:19<00:00,  2.85s/it, loss=0.619, accuracy=0.633]\n"
     ]
    },
    {
     "name": "stdout",
     "output_type": "stream",
     "text": [
      "validation_loss: 4.2082, validation_accuracy: 61.6071%\n"
     ]
    },
    {
     "name": "stderr",
     "output_type": "stream",
     "text": [
      "Epoch 2/50 (train): 100%|██████████| 25/25 [02:30<00:00,  6.01s/it, loss=0.595, accuracy=0.656]\n"
     ]
    },
    {
     "name": "stdout",
     "output_type": "stream",
     "text": [
      "train_loss: 15.0201, train_accuracy: 67.7500%\n"
     ]
    },
    {
     "name": "stderr",
     "output_type": "stream",
     "text": [
      "Epoch 2/50 (validation): 100%|██████████| 7/7 [00:16<00:00,  2.41s/it, loss=0.569, accuracy=0.567]\n"
     ]
    },
    {
     "name": "stdout",
     "output_type": "stream",
     "text": [
      "validation_loss: 4.0876, validation_accuracy: 62.7232%\n"
     ]
    },
    {
     "name": "stderr",
     "output_type": "stream",
     "text": [
      "Epoch 3/50 (train): 100%|██████████| 25/25 [01:52<00:00,  4.50s/it, loss=0.571, accuracy=0.734]\n"
     ]
    },
    {
     "name": "stdout",
     "output_type": "stream",
     "text": [
      "train_loss: 14.4934, train_accuracy: 68.5000%\n"
     ]
    },
    {
     "name": "stderr",
     "output_type": "stream",
     "text": [
      "Epoch 3/50 (validation): 100%|██████████| 7/7 [00:11<00:00,  1.68s/it, loss=0.626, accuracy=0.667]\n"
     ]
    },
    {
     "name": "stdout",
     "output_type": "stream",
     "text": [
      "validation_loss: 4.0967, validation_accuracy: 64.2857%\n"
     ]
    },
    {
     "name": "stderr",
     "output_type": "stream",
     "text": [
      "Epoch 4/50 (train): 100%|██████████| 25/25 [03:07<00:00,  7.51s/it, loss=0.625, accuracy=0.609]\n"
     ]
    },
    {
     "name": "stdout",
     "output_type": "stream",
     "text": [
      "train_loss: 14.3040, train_accuracy: 68.8750%\n"
     ]
    },
    {
     "name": "stderr",
     "output_type": "stream",
     "text": [
      "Epoch 4/50 (validation): 100%|██████████| 7/7 [00:20<00:00,  2.97s/it, loss=0.457, accuracy=0.733]\n"
     ]
    },
    {
     "name": "stdout",
     "output_type": "stream",
     "text": [
      "validation_loss: 3.9385, validation_accuracy: 63.6161%\n"
     ]
    },
    {
     "name": "stderr",
     "output_type": "stream",
     "text": [
      "Epoch 5/50 (train): 100%|██████████| 25/25 [03:23<00:00,  8.15s/it, loss=0.541, accuracy=0.75] \n"
     ]
    },
    {
     "name": "stdout",
     "output_type": "stream",
     "text": [
      "train_loss: 14.2502, train_accuracy: 68.4375%\n"
     ]
    },
    {
     "name": "stderr",
     "output_type": "stream",
     "text": [
      "Epoch 5/50 (validation): 100%|██████████| 7/7 [00:15<00:00,  2.25s/it, loss=0.579, accuracy=0.667]\n"
     ]
    },
    {
     "name": "stdout",
     "output_type": "stream",
     "text": [
      "validation_loss: 3.9317, validation_accuracy: 66.0714%\n"
     ]
    },
    {
     "name": "stderr",
     "output_type": "stream",
     "text": [
      "Epoch 6/50 (train): 100%|██████████| 25/25 [02:05<00:00,  5.01s/it, loss=0.597, accuracy=0.688]\n"
     ]
    },
    {
     "name": "stdout",
     "output_type": "stream",
     "text": [
      "train_loss: 14.1354, train_accuracy: 69.5000%\n"
     ]
    },
    {
     "name": "stderr",
     "output_type": "stream",
     "text": [
      "Epoch 6/50 (validation): 100%|██████████| 7/7 [00:12<00:00,  1.75s/it, loss=0.505, accuracy=0.733]\n"
     ]
    },
    {
     "name": "stdout",
     "output_type": "stream",
     "text": [
      "validation_loss: 3.7891, validation_accuracy: 64.9554%\n"
     ]
    },
    {
     "name": "stderr",
     "output_type": "stream",
     "text": [
      "Epoch 7/50 (train): 100%|██████████| 25/25 [02:14<00:00,  5.40s/it, loss=0.581, accuracy=0.719]\n"
     ]
    },
    {
     "name": "stdout",
     "output_type": "stream",
     "text": [
      "train_loss: 13.5361, train_accuracy: 72.1875%\n"
     ]
    },
    {
     "name": "stderr",
     "output_type": "stream",
     "text": [
      "Epoch 7/50 (validation): 100%|██████████| 7/7 [00:17<00:00,  2.53s/it, loss=0.612, accuracy=0.667]\n"
     ]
    },
    {
     "name": "stdout",
     "output_type": "stream",
     "text": [
      "validation_loss: 3.8993, validation_accuracy: 63.8393%\n"
     ]
    },
    {
     "name": "stderr",
     "output_type": "stream",
     "text": [
      "Epoch 8/50 (train): 100%|██████████| 25/25 [02:42<00:00,  6.50s/it, loss=0.527, accuracy=0.688]\n"
     ]
    },
    {
     "name": "stdout",
     "output_type": "stream",
     "text": [
      "train_loss: 12.9423, train_accuracy: 72.5625%\n"
     ]
    },
    {
     "name": "stderr",
     "output_type": "stream",
     "text": [
      "Epoch 8/50 (validation): 100%|██████████| 7/7 [00:17<00:00,  2.47s/it, loss=0.679, accuracy=0.6]  \n"
     ]
    },
    {
     "name": "stdout",
     "output_type": "stream",
     "text": [
      "validation_loss: 3.9268, validation_accuracy: 64.9554%\n"
     ]
    },
    {
     "name": "stderr",
     "output_type": "stream",
     "text": [
      "Epoch 9/50 (train): 100%|██████████| 25/25 [02:42<00:00,  6.51s/it, loss=0.526, accuracy=0.719]\n"
     ]
    },
    {
     "name": "stdout",
     "output_type": "stream",
     "text": [
      "train_loss: 12.9279, train_accuracy: 72.1250%\n"
     ]
    },
    {
     "name": "stderr",
     "output_type": "stream",
     "text": [
      "Epoch 9/50 (validation): 100%|██████████| 7/7 [00:16<00:00,  2.34s/it, loss=0.46, accuracy=0.767] \n"
     ]
    },
    {
     "name": "stdout",
     "output_type": "stream",
     "text": [
      "validation_loss: 3.5921, validation_accuracy: 66.0714%\n"
     ]
    },
    {
     "name": "stderr",
     "output_type": "stream",
     "text": [
      "Epoch 10/50 (train): 100%|██████████| 25/25 [02:25<00:00,  5.80s/it, loss=0.515, accuracy=0.734]\n"
     ]
    },
    {
     "name": "stdout",
     "output_type": "stream",
     "text": [
      "train_loss: 12.2208, train_accuracy: 74.9375%\n"
     ]
    },
    {
     "name": "stderr",
     "output_type": "stream",
     "text": [
      "Epoch 10/50 (validation): 100%|██████████| 7/7 [00:10<00:00,  1.44s/it, loss=0.367, accuracy=0.767]\n"
     ]
    },
    {
     "name": "stdout",
     "output_type": "stream",
     "text": [
      "validation_loss: 3.5533, validation_accuracy: 66.5179%\n"
     ]
    },
    {
     "name": "stderr",
     "output_type": "stream",
     "text": [
      "Epoch 11/50 (train): 100%|██████████| 25/25 [01:58<00:00,  4.72s/it, loss=0.455, accuracy=0.828]\n"
     ]
    },
    {
     "name": "stdout",
     "output_type": "stream",
     "text": [
      "train_loss: 12.2005, train_accuracy: 75.3125%\n"
     ]
    },
    {
     "name": "stderr",
     "output_type": "stream",
     "text": [
      "Epoch 11/50 (validation): 100%|██████████| 7/7 [00:13<00:00,  1.95s/it, loss=0.59, accuracy=0.7]   \n"
     ]
    },
    {
     "name": "stdout",
     "output_type": "stream",
     "text": [
      "validation_loss: 3.6673, validation_accuracy: 66.7411%\n"
     ]
    },
    {
     "name": "stderr",
     "output_type": "stream",
     "text": [
      "Epoch 12/50 (train): 100%|██████████| 25/25 [02:25<00:00,  5.82s/it, loss=0.48, accuracy=0.734] \n"
     ]
    },
    {
     "name": "stdout",
     "output_type": "stream",
     "text": [
      "train_loss: 11.6151, train_accuracy: 75.1250%\n"
     ]
    },
    {
     "name": "stderr",
     "output_type": "stream",
     "text": [
      "Epoch 12/50 (validation): 100%|██████████| 7/7 [00:24<00:00,  3.57s/it, loss=0.526, accuracy=0.767]\n"
     ]
    },
    {
     "name": "stdout",
     "output_type": "stream",
     "text": [
      "validation_loss: 3.4597, validation_accuracy: 68.3036%\n"
     ]
    },
    {
     "name": "stderr",
     "output_type": "stream",
     "text": [
      "Epoch 13/50 (train): 100%|██████████| 25/25 [03:35<00:00,  8.63s/it, loss=0.455, accuracy=0.766]\n"
     ]
    },
    {
     "name": "stdout",
     "output_type": "stream",
     "text": [
      "train_loss: 10.7169, train_accuracy: 79.2500%\n"
     ]
    },
    {
     "name": "stderr",
     "output_type": "stream",
     "text": [
      "Epoch 13/50 (validation): 100%|██████████| 7/7 [00:22<00:00,  3.19s/it, loss=0.395, accuracy=0.8]  \n"
     ]
    },
    {
     "name": "stdout",
     "output_type": "stream",
     "text": [
      "validation_loss: 3.4105, validation_accuracy: 68.5268%\n"
     ]
    },
    {
     "name": "stderr",
     "output_type": "stream",
     "text": [
      "Epoch 14/50 (train): 100%|██████████| 25/25 [03:29<00:00,  8.36s/it, loss=0.334, accuracy=0.812]\n"
     ]
    },
    {
     "name": "stdout",
     "output_type": "stream",
     "text": [
      "train_loss: 10.6200, train_accuracy: 77.9375%\n"
     ]
    },
    {
     "name": "stderr",
     "output_type": "stream",
     "text": [
      "Epoch 14/50 (validation): 100%|██████████| 7/7 [00:19<00:00,  2.77s/it, loss=0.532, accuracy=0.733]\n"
     ]
    },
    {
     "name": "stdout",
     "output_type": "stream",
     "text": [
      "validation_loss: 3.4670, validation_accuracy: 71.4286%\n"
     ]
    },
    {
     "name": "stderr",
     "output_type": "stream",
     "text": [
      "Epoch 15/50 (train): 100%|██████████| 25/25 [03:21<00:00,  8.05s/it, loss=0.363, accuracy=0.797]\n"
     ]
    },
    {
     "name": "stdout",
     "output_type": "stream",
     "text": [
      "train_loss: 9.9935, train_accuracy: 80.7500%\n"
     ]
    },
    {
     "name": "stderr",
     "output_type": "stream",
     "text": [
      "Epoch 15/50 (validation): 100%|██████████| 7/7 [00:22<00:00,  3.21s/it, loss=0.374, accuracy=0.867]\n"
     ]
    },
    {
     "name": "stdout",
     "output_type": "stream",
     "text": [
      "validation_loss: 3.3664, validation_accuracy: 70.0893%\n"
     ]
    },
    {
     "name": "stderr",
     "output_type": "stream",
     "text": [
      "Epoch 16/50 (train): 100%|██████████| 25/25 [03:09<00:00,  7.60s/it, loss=0.535, accuracy=0.75] \n"
     ]
    },
    {
     "name": "stdout",
     "output_type": "stream",
     "text": [
      "train_loss: 9.6591, train_accuracy: 82.2500%\n"
     ]
    },
    {
     "name": "stderr",
     "output_type": "stream",
     "text": [
      "Epoch 16/50 (validation): 100%|██████████| 7/7 [00:19<00:00,  2.81s/it, loss=0.351, accuracy=0.9]  \n"
     ]
    },
    {
     "name": "stdout",
     "output_type": "stream",
     "text": [
      "validation_loss: 3.1807, validation_accuracy: 73.2143%\n"
     ]
    },
    {
     "name": "stderr",
     "output_type": "stream",
     "text": [
      "Epoch 17/50 (train): 100%|██████████| 25/25 [03:07<00:00,  7.48s/it, loss=0.342, accuracy=0.797]\n"
     ]
    },
    {
     "name": "stdout",
     "output_type": "stream",
     "text": [
      "train_loss: 8.8954, train_accuracy: 84.1250%\n"
     ]
    },
    {
     "name": "stderr",
     "output_type": "stream",
     "text": [
      "Epoch 17/50 (validation): 100%|██████████| 7/7 [00:14<00:00,  2.10s/it, loss=0.51, accuracy=0.733] \n"
     ]
    },
    {
     "name": "stdout",
     "output_type": "stream",
     "text": [
      "validation_loss: 3.3058, validation_accuracy: 72.7679%\n"
     ]
    },
    {
     "name": "stderr",
     "output_type": "stream",
     "text": [
      "Epoch 18/50 (train): 100%|██████████| 25/25 [02:24<00:00,  5.79s/it, loss=0.381, accuracy=0.812]\n"
     ]
    },
    {
     "name": "stdout",
     "output_type": "stream",
     "text": [
      "train_loss: 8.2529, train_accuracy: 84.9375%\n"
     ]
    },
    {
     "name": "stderr",
     "output_type": "stream",
     "text": [
      "Epoch 18/50 (validation): 100%|██████████| 7/7 [00:19<00:00,  2.86s/it, loss=0.65, accuracy=0.767] \n"
     ]
    },
    {
     "name": "stdout",
     "output_type": "stream",
     "text": [
      "validation_loss: 3.5181, validation_accuracy: 73.4375%\n"
     ]
    },
    {
     "name": "stderr",
     "output_type": "stream",
     "text": [
      "Epoch 19/50 (train): 100%|██████████| 25/25 [02:19<00:00,  5.59s/it, loss=0.233, accuracy=0.906]\n"
     ]
    },
    {
     "name": "stdout",
     "output_type": "stream",
     "text": [
      "train_loss: 8.1685, train_accuracy: 84.6250%\n"
     ]
    },
    {
     "name": "stderr",
     "output_type": "stream",
     "text": [
      "Epoch 19/50 (validation): 100%|██████████| 7/7 [00:20<00:00,  2.96s/it, loss=0.485, accuracy=0.833]\n"
     ]
    },
    {
     "name": "stdout",
     "output_type": "stream",
     "text": [
      "validation_loss: 3.6426, validation_accuracy: 73.2143%\n"
     ]
    },
    {
     "name": "stderr",
     "output_type": "stream",
     "text": [
      "Epoch 20/50 (train): 100%|██████████| 25/25 [02:41<00:00,  6.47s/it, loss=0.352, accuracy=0.828]\n"
     ]
    },
    {
     "name": "stdout",
     "output_type": "stream",
     "text": [
      "train_loss: 8.3097, train_accuracy: 85.1875%\n"
     ]
    },
    {
     "name": "stderr",
     "output_type": "stream",
     "text": [
      "Epoch 20/50 (validation): 100%|██████████| 7/7 [00:14<00:00,  2.10s/it, loss=0.352, accuracy=0.833]\n"
     ]
    },
    {
     "name": "stdout",
     "output_type": "stream",
     "text": [
      "validation_loss: 3.3973, validation_accuracy: 70.9821%\n"
     ]
    },
    {
     "name": "stderr",
     "output_type": "stream",
     "text": [
      "Epoch 21/50 (train): 100%|██████████| 25/25 [02:29<00:00,  6.00s/it, loss=0.262, accuracy=0.906]\n"
     ]
    },
    {
     "name": "stdout",
     "output_type": "stream",
     "text": [
      "train_loss: 7.8260, train_accuracy: 85.8750%\n"
     ]
    },
    {
     "name": "stderr",
     "output_type": "stream",
     "text": [
      "Epoch 21/50 (validation): 100%|██████████| 7/7 [00:22<00:00,  3.27s/it, loss=0.667, accuracy=0.833]\n"
     ]
    },
    {
     "name": "stdout",
     "output_type": "stream",
     "text": [
      "validation_loss: 3.7157, validation_accuracy: 74.3304%\n"
     ]
    },
    {
     "name": "stderr",
     "output_type": "stream",
     "text": [
      "Epoch 22/50 (train): 100%|██████████| 25/25 [02:44<00:00,  6.59s/it, loss=0.199, accuracy=0.922]\n"
     ]
    },
    {
     "name": "stdout",
     "output_type": "stream",
     "text": [
      "train_loss: 7.2895, train_accuracy: 87.3125%\n"
     ]
    },
    {
     "name": "stderr",
     "output_type": "stream",
     "text": [
      "Epoch 22/50 (validation): 100%|██████████| 7/7 [00:12<00:00,  1.74s/it, loss=0.602, accuracy=0.733]\n"
     ]
    },
    {
     "name": "stdout",
     "output_type": "stream",
     "text": [
      "validation_loss: 3.3901, validation_accuracy: 74.3304%\n"
     ]
    },
    {
     "name": "stderr",
     "output_type": "stream",
     "text": [
      "Epoch 23/50 (train): 100%|██████████| 25/25 [02:29<00:00,  6.00s/it, loss=0.336, accuracy=0.844]\n"
     ]
    },
    {
     "name": "stdout",
     "output_type": "stream",
     "text": [
      "train_loss: 6.8953, train_accuracy: 88.3125%\n"
     ]
    },
    {
     "name": "stderr",
     "output_type": "stream",
     "text": [
      "Epoch 23/50 (validation): 100%|██████████| 7/7 [00:14<00:00,  2.05s/it, loss=0.47, accuracy=0.767] \n"
     ]
    },
    {
     "name": "stdout",
     "output_type": "stream",
     "text": [
      "validation_loss: 3.2372, validation_accuracy: 73.4375%\n"
     ]
    },
    {
     "name": "stderr",
     "output_type": "stream",
     "text": [
      "Epoch 24/50 (train): 100%|██████████| 25/25 [02:29<00:00,  5.98s/it, loss=0.217, accuracy=0.859]\n"
     ]
    },
    {
     "name": "stdout",
     "output_type": "stream",
     "text": [
      "train_loss: 6.4982, train_accuracy: 88.8750%\n"
     ]
    },
    {
     "name": "stderr",
     "output_type": "stream",
     "text": [
      "Epoch 24/50 (validation): 100%|██████████| 7/7 [00:12<00:00,  1.85s/it, loss=0.57, accuracy=0.733] \n"
     ]
    },
    {
     "name": "stdout",
     "output_type": "stream",
     "text": [
      "validation_loss: 3.4702, validation_accuracy: 73.8839%\n"
     ]
    },
    {
     "name": "stderr",
     "output_type": "stream",
     "text": [
      "Epoch 25/50 (train): 100%|██████████| 25/25 [02:19<00:00,  5.58s/it, loss=0.182, accuracy=0.938]\n"
     ]
    },
    {
     "name": "stdout",
     "output_type": "stream",
     "text": [
      "train_loss: 5.7813, train_accuracy: 91.5625%\n"
     ]
    },
    {
     "name": "stderr",
     "output_type": "stream",
     "text": [
      "Epoch 25/50 (validation): 100%|██████████| 7/7 [00:17<00:00,  2.51s/it, loss=0.455, accuracy=0.767]\n"
     ]
    },
    {
     "name": "stdout",
     "output_type": "stream",
     "text": [
      "validation_loss: 3.7469, validation_accuracy: 75.2232%\n"
     ]
    },
    {
     "name": "stderr",
     "output_type": "stream",
     "text": [
      "Epoch 26/50 (train): 100%|██████████| 25/25 [03:10<00:00,  7.62s/it, loss=0.194, accuracy=0.969]\n"
     ]
    },
    {
     "name": "stdout",
     "output_type": "stream",
     "text": [
      "train_loss: 6.6086, train_accuracy: 88.8750%\n"
     ]
    },
    {
     "name": "stderr",
     "output_type": "stream",
     "text": [
      "Epoch 26/50 (validation): 100%|██████████| 7/7 [00:12<00:00,  1.76s/it, loss=0.35, accuracy=0.767] \n"
     ]
    },
    {
     "name": "stdout",
     "output_type": "stream",
     "text": [
      "validation_loss: 3.1636, validation_accuracy: 73.6607%\n"
     ]
    },
    {
     "name": "stderr",
     "output_type": "stream",
     "text": [
      "Epoch 27/50 (train): 100%|██████████| 25/25 [02:35<00:00,  6.20s/it, loss=0.164, accuracy=0.922]\n"
     ]
    },
    {
     "name": "stdout",
     "output_type": "stream",
     "text": [
      "train_loss: 5.4767, train_accuracy: 90.7500%\n"
     ]
    },
    {
     "name": "stderr",
     "output_type": "stream",
     "text": [
      "Epoch 27/50 (validation): 100%|██████████| 7/7 [00:12<00:00,  1.73s/it, loss=0.39, accuracy=0.833] \n"
     ]
    },
    {
     "name": "stdout",
     "output_type": "stream",
     "text": [
      "validation_loss: 3.3997, validation_accuracy: 74.5536%\n"
     ]
    },
    {
     "name": "stderr",
     "output_type": "stream",
     "text": [
      "Epoch 28/50 (train): 100%|██████████| 25/25 [02:03<00:00,  4.93s/it, loss=0.281, accuracy=0.922]\n"
     ]
    },
    {
     "name": "stdout",
     "output_type": "stream",
     "text": [
      "train_loss: 5.1026, train_accuracy: 91.8750%\n"
     ]
    },
    {
     "name": "stderr",
     "output_type": "stream",
     "text": [
      "Epoch 28/50 (validation): 100%|██████████| 7/7 [00:11<00:00,  1.68s/it, loss=0.197, accuracy=0.9]  \n"
     ]
    },
    {
     "name": "stdout",
     "output_type": "stream",
     "text": [
      "validation_loss: 3.5961, validation_accuracy: 75.2232%\n"
     ]
    },
    {
     "name": "stderr",
     "output_type": "stream",
     "text": [
      "Epoch 29/50 (train): 100%|██████████| 25/25 [02:11<00:00,  5.25s/it, loss=0.13, accuracy=0.953] \n"
     ]
    },
    {
     "name": "stdout",
     "output_type": "stream",
     "text": [
      "train_loss: 4.5989, train_accuracy: 92.3750%\n"
     ]
    },
    {
     "name": "stderr",
     "output_type": "stream",
     "text": [
      "Epoch 29/50 (validation): 100%|██████████| 7/7 [00:14<00:00,  2.04s/it, loss=0.611, accuracy=0.867]\n"
     ]
    },
    {
     "name": "stdout",
     "output_type": "stream",
     "text": [
      "validation_loss: 3.9136, validation_accuracy: 74.3304%\n"
     ]
    },
    {
     "name": "stderr",
     "output_type": "stream",
     "text": [
      "Epoch 30/50 (train): 100%|██████████| 25/25 [03:07<00:00,  7.49s/it, loss=0.288, accuracy=0.875]\n"
     ]
    },
    {
     "name": "stdout",
     "output_type": "stream",
     "text": [
      "train_loss: 5.0193, train_accuracy: 91.1250%\n"
     ]
    },
    {
     "name": "stderr",
     "output_type": "stream",
     "text": [
      "Epoch 30/50 (validation): 100%|██████████| 7/7 [00:13<00:00,  1.95s/it, loss=0.417, accuracy=0.833]\n"
     ]
    },
    {
     "name": "stdout",
     "output_type": "stream",
     "text": [
      "validation_loss: 4.0211, validation_accuracy: 73.4375%\n"
     ]
    },
    {
     "name": "stderr",
     "output_type": "stream",
     "text": [
      "Epoch 31/50 (train): 100%|██████████| 25/25 [02:06<00:00,  5.07s/it, loss=0.186, accuracy=0.922]\n"
     ]
    },
    {
     "name": "stdout",
     "output_type": "stream",
     "text": [
      "train_loss: 4.6584, train_accuracy: 92.1250%\n"
     ]
    },
    {
     "name": "stderr",
     "output_type": "stream",
     "text": [
      "Epoch 31/50 (validation): 100%|██████████| 7/7 [00:12<00:00,  1.79s/it, loss=0.511, accuracy=0.767]\n"
     ]
    },
    {
     "name": "stdout",
     "output_type": "stream",
     "text": [
      "validation_loss: 3.6524, validation_accuracy: 76.1161%\n"
     ]
    },
    {
     "name": "stderr",
     "output_type": "stream",
     "text": [
      "Epoch 32/50 (train): 100%|██████████| 25/25 [02:06<00:00,  5.06s/it, loss=0.294, accuracy=0.891] \n"
     ]
    },
    {
     "name": "stdout",
     "output_type": "stream",
     "text": [
      "train_loss: 4.0755, train_accuracy: 94.1250%\n"
     ]
    },
    {
     "name": "stderr",
     "output_type": "stream",
     "text": [
      "Epoch 32/50 (validation): 100%|██████████| 7/7 [00:13<00:00,  1.96s/it, loss=0.427, accuracy=0.833]\n"
     ]
    },
    {
     "name": "stdout",
     "output_type": "stream",
     "text": [
      "validation_loss: 4.5964, validation_accuracy: 74.5536%\n"
     ]
    },
    {
     "name": "stderr",
     "output_type": "stream",
     "text": [
      "Epoch 33/50 (train): 100%|██████████| 25/25 [02:20<00:00,  5.61s/it, loss=0.132, accuracy=0.938] \n"
     ]
    },
    {
     "name": "stdout",
     "output_type": "stream",
     "text": [
      "train_loss: 3.6884, train_accuracy: 94.5000%\n"
     ]
    },
    {
     "name": "stderr",
     "output_type": "stream",
     "text": [
      "Epoch 33/50 (validation): 100%|██████████| 7/7 [00:21<00:00,  3.01s/it, loss=1.3, accuracy=0.7]    \n"
     ]
    },
    {
     "name": "stdout",
     "output_type": "stream",
     "text": [
      "validation_loss: 4.5792, validation_accuracy: 76.3393%\n"
     ]
    },
    {
     "name": "stderr",
     "output_type": "stream",
     "text": [
      "Epoch 34/50 (train): 100%|██████████| 25/25 [02:38<00:00,  6.34s/it, loss=0.173, accuracy=0.922]\n"
     ]
    },
    {
     "name": "stdout",
     "output_type": "stream",
     "text": [
      "train_loss: 3.4205, train_accuracy: 94.7500%\n"
     ]
    },
    {
     "name": "stderr",
     "output_type": "stream",
     "text": [
      "Epoch 34/50 (validation): 100%|██████████| 7/7 [00:12<00:00,  1.72s/it, loss=0.491, accuracy=0.867]\n"
     ]
    },
    {
     "name": "stdout",
     "output_type": "stream",
     "text": [
      "validation_loss: 4.5870, validation_accuracy: 73.8839%\n"
     ]
    },
    {
     "name": "stderr",
     "output_type": "stream",
     "text": [
      "Epoch 35/50 (train): 100%|██████████| 25/25 [02:02<00:00,  4.90s/it, loss=0.123, accuracy=0.969] \n"
     ]
    },
    {
     "name": "stdout",
     "output_type": "stream",
     "text": [
      "train_loss: 3.7553, train_accuracy: 94.4375%\n"
     ]
    },
    {
     "name": "stderr",
     "output_type": "stream",
     "text": [
      "Epoch 35/50 (validation): 100%|██████████| 7/7 [00:11<00:00,  1.59s/it, loss=0.821, accuracy=0.7]  \n"
     ]
    },
    {
     "name": "stdout",
     "output_type": "stream",
     "text": [
      "validation_loss: 4.6388, validation_accuracy: 73.4375%\n"
     ]
    },
    {
     "name": "stderr",
     "output_type": "stream",
     "text": [
      "Epoch 36/50 (train): 100%|██████████| 25/25 [01:52<00:00,  4.52s/it, loss=0.143, accuracy=0.938] \n"
     ]
    },
    {
     "name": "stdout",
     "output_type": "stream",
     "text": [
      "train_loss: 2.9027, train_accuracy: 95.3750%\n"
     ]
    },
    {
     "name": "stderr",
     "output_type": "stream",
     "text": [
      "Epoch 36/50 (validation): 100%|██████████| 7/7 [00:12<00:00,  1.72s/it, loss=0.311, accuracy=0.9]  \n"
     ]
    },
    {
     "name": "stdout",
     "output_type": "stream",
     "text": [
      "validation_loss: 4.3487, validation_accuracy: 75.2232%\n"
     ]
    },
    {
     "name": "stderr",
     "output_type": "stream",
     "text": [
      "Epoch 37/50 (train): 100%|██████████| 25/25 [01:47<00:00,  4.30s/it, loss=0.0819, accuracy=0.969]\n"
     ]
    },
    {
     "name": "stdout",
     "output_type": "stream",
     "text": [
      "train_loss: 3.2783, train_accuracy: 95.0000%\n"
     ]
    },
    {
     "name": "stderr",
     "output_type": "stream",
     "text": [
      "Epoch 37/50 (validation): 100%|██████████| 7/7 [00:09<00:00,  1.37s/it, loss=0.773, accuracy=0.8]  \n"
     ]
    },
    {
     "name": "stdout",
     "output_type": "stream",
     "text": [
      "validation_loss: 4.8962, validation_accuracy: 74.1071%\n"
     ]
    },
    {
     "name": "stderr",
     "output_type": "stream",
     "text": [
      "Epoch 38/50 (train): 100%|██████████| 25/25 [01:43<00:00,  4.13s/it, loss=0.0843, accuracy=0.953]\n"
     ]
    },
    {
     "name": "stdout",
     "output_type": "stream",
     "text": [
      "train_loss: 2.5748, train_accuracy: 96.4375%\n"
     ]
    },
    {
     "name": "stderr",
     "output_type": "stream",
     "text": [
      "Epoch 38/50 (validation): 100%|██████████| 7/7 [00:09<00:00,  1.42s/it, loss=0.554, accuracy=0.867]\n"
     ]
    },
    {
     "name": "stdout",
     "output_type": "stream",
     "text": [
      "validation_loss: 4.6701, validation_accuracy: 75.0000%\n"
     ]
    },
    {
     "name": "stderr",
     "output_type": "stream",
     "text": [
      "Epoch 39/50 (train): 100%|██████████| 25/25 [01:43<00:00,  4.14s/it, loss=0.118, accuracy=0.969] \n"
     ]
    },
    {
     "name": "stdout",
     "output_type": "stream",
     "text": [
      "train_loss: 2.9777, train_accuracy: 95.2500%\n"
     ]
    },
    {
     "name": "stderr",
     "output_type": "stream",
     "text": [
      "Epoch 39/50 (validation): 100%|██████████| 7/7 [00:09<00:00,  1.42s/it, loss=0.404, accuracy=0.833]\n"
     ]
    },
    {
     "name": "stdout",
     "output_type": "stream",
     "text": [
      "validation_loss: 4.8761, validation_accuracy: 73.8839%\n"
     ]
    },
    {
     "name": "stderr",
     "output_type": "stream",
     "text": [
      "Epoch 40/50 (train): 100%|██████████| 25/25 [01:43<00:00,  4.14s/it, loss=0.0617, accuracy=0.969]\n"
     ]
    },
    {
     "name": "stdout",
     "output_type": "stream",
     "text": [
      "train_loss: 2.1166, train_accuracy: 97.0625%\n"
     ]
    },
    {
     "name": "stderr",
     "output_type": "stream",
     "text": [
      "Epoch 40/50 (validation): 100%|██████████| 7/7 [00:09<00:00,  1.43s/it, loss=0.556, accuracy=0.8]  \n"
     ]
    },
    {
     "name": "stdout",
     "output_type": "stream",
     "text": [
      "validation_loss: 5.4594, validation_accuracy: 74.7768%\n"
     ]
    },
    {
     "name": "stderr",
     "output_type": "stream",
     "text": [
      "Epoch 41/50 (train): 100%|██████████| 25/25 [01:44<00:00,  4.16s/it, loss=0.0887, accuracy=0.953]\n"
     ]
    },
    {
     "name": "stdout",
     "output_type": "stream",
     "text": [
      "train_loss: 2.3026, train_accuracy: 96.9375%\n"
     ]
    },
    {
     "name": "stderr",
     "output_type": "stream",
     "text": [
      "Epoch 41/50 (validation): 100%|██████████| 7/7 [00:09<00:00,  1.41s/it, loss=0.229, accuracy=0.9]  \n"
     ]
    },
    {
     "name": "stdout",
     "output_type": "stream",
     "text": [
      "validation_loss: 5.3325, validation_accuracy: 75.4464%\n"
     ]
    },
    {
     "name": "stderr",
     "output_type": "stream",
     "text": [
      "Epoch 42/50 (train):  64%|██████▍   | 16/25 [01:18<00:44,  4.93s/it, loss=0.0467, accuracy=0.984]\n"
     ]
    },
    {
     "ename": "KeyboardInterrupt",
     "evalue": "",
     "output_type": "error",
     "traceback": [
      "\u001B[1;31m---------------------------------------------------------------------------\u001B[0m",
      "\u001B[1;31mKeyboardInterrupt\u001B[0m                         Traceback (most recent call last)",
      "Input \u001B[1;32mIn [15]\u001B[0m, in \u001B[0;36m<cell line: 1>\u001B[1;34m()\u001B[0m\n\u001B[1;32m----> 1\u001B[0m train_data \u001B[38;5;241m=\u001B[39m \u001B[43mfit\u001B[49m\u001B[43m(\u001B[49m\u001B[43mmodel\u001B[49m\u001B[43m,\u001B[49m\u001B[43m \u001B[49m\u001B[43moptimizer\u001B[49m\u001B[43m,\u001B[49m\u001B[43m \u001B[49m\u001B[43mcriterion\u001B[49m\u001B[43m,\u001B[49m\u001B[43m \u001B[49m\u001B[43mtrain_loader\u001B[49m\u001B[43m,\u001B[49m\u001B[43m \u001B[49m\u001B[43mval_loader\u001B[49m\u001B[43m,\u001B[49m\u001B[43m \u001B[49m\u001B[38;5;241;43m50\u001B[39;49m\u001B[43m,\u001B[49m\u001B[43m \u001B[49m\u001B[43mdecay\u001B[49m\u001B[38;5;241;43m=\u001B[39;49m\u001B[38;5;241;43m0\u001B[39;49m\u001B[43m)\u001B[49m\n",
      "Input \u001B[1;32mIn [14]\u001B[0m, in \u001B[0;36mfit\u001B[1;34m(model, optimizer, criterion, train_loader, validation_loader, epochs, decay)\u001B[0m\n\u001B[0;32m      2\u001B[0m train_info \u001B[38;5;241m=\u001B[39m {\u001B[38;5;124m'\u001B[39m\u001B[38;5;124mloss\u001B[39m\u001B[38;5;124m'\u001B[39m:[],\u001B[38;5;124m'\u001B[39m\u001B[38;5;124maccuracy\u001B[39m\u001B[38;5;124m'\u001B[39m:[], \u001B[38;5;124m'\u001B[39m\u001B[38;5;124mloss_val\u001B[39m\u001B[38;5;124m'\u001B[39m:[],\u001B[38;5;124m'\u001B[39m\u001B[38;5;124maccuracy_val\u001B[39m\u001B[38;5;124m'\u001B[39m:[]}\n\u001B[0;32m      3\u001B[0m \u001B[38;5;28;01mfor\u001B[39;00m epoch \u001B[38;5;129;01min\u001B[39;00m \u001B[38;5;28mrange\u001B[39m(\u001B[38;5;241m1\u001B[39m, epochs\u001B[38;5;241m+\u001B[39m\u001B[38;5;241m1\u001B[39m):\n\u001B[1;32m----> 4\u001B[0m     loss, accuracy \u001B[38;5;241m=\u001B[39m \u001B[43mtrain\u001B[49m\u001B[43m(\u001B[49m\u001B[43mmodel\u001B[49m\u001B[43m,\u001B[49m\u001B[43m \u001B[49m\u001B[43moptimizer\u001B[49m\u001B[43m,\u001B[49m\u001B[43m \u001B[49m\u001B[43mcriterion\u001B[49m\u001B[43m,\u001B[49m\u001B[43m \u001B[49m\u001B[43mtrain_loader\u001B[49m\u001B[43m,\u001B[49m\u001B[43m[\u001B[49m\u001B[43mepoch\u001B[49m\u001B[43m,\u001B[49m\u001B[43m \u001B[49m\u001B[43mepochs\u001B[49m\u001B[43m]\u001B[49m\u001B[43m,\u001B[49m\u001B[43mdecay\u001B[49m\u001B[43m,\u001B[49m\u001B[38;5;124;43m'\u001B[39;49m\u001B[38;5;124;43mtrain\u001B[39;49m\u001B[38;5;124;43m'\u001B[39;49m\u001B[43m)\u001B[49m\n\u001B[0;32m      5\u001B[0m     train_info[\u001B[38;5;124m'\u001B[39m\u001B[38;5;124mloss\u001B[39m\u001B[38;5;124m'\u001B[39m]\u001B[38;5;241m.\u001B[39mappend(loss)\n\u001B[0;32m      6\u001B[0m     train_info[\u001B[38;5;124m'\u001B[39m\u001B[38;5;124maccuracy\u001B[39m\u001B[38;5;124m'\u001B[39m]\u001B[38;5;241m.\u001B[39mappend(accuracy)\n",
      "Input \u001B[1;32mIn [13]\u001B[0m, in \u001B[0;36mtrain\u001B[1;34m(model, optimizer, criterion, data_loader, epoch, decay, mode)\u001B[0m\n\u001B[0;32m     26\u001B[0m running_loss \u001B[38;5;241m+\u001B[39m\u001B[38;5;241m=\u001B[39m loss\n\u001B[0;32m     28\u001B[0m \u001B[38;5;28;01mif\u001B[39;00m mode \u001B[38;5;241m==\u001B[39m \u001B[38;5;124m'\u001B[39m\u001B[38;5;124mtrain\u001B[39m\u001B[38;5;124m'\u001B[39m:\n\u001B[1;32m---> 29\u001B[0m     \u001B[43mloss\u001B[49m\u001B[38;5;241;43m.\u001B[39;49m\u001B[43mbackward\u001B[49m\u001B[43m(\u001B[49m\u001B[43m)\u001B[49m\n\u001B[0;32m     30\u001B[0m     optimizer\u001B[38;5;241m.\u001B[39mstep()\n\u001B[0;32m     31\u001B[0m pbar\u001B[38;5;241m.\u001B[39mset_postfix({\u001B[38;5;124m'\u001B[39m\u001B[38;5;124mloss\u001B[39m\u001B[38;5;124m'\u001B[39m:loss\u001B[38;5;241m.\u001B[39mitem(),\u001B[38;5;124m'\u001B[39m\u001B[38;5;124maccuracy\u001B[39m\u001B[38;5;124m'\u001B[39m:accuracy\u001B[38;5;241m.\u001B[39mitem()})\n",
      "File \u001B[1;32m~\\Anaconda3\\envs\\first_pytorch_solution\\lib\\site-packages\\torch\\_tensor.py:487\u001B[0m, in \u001B[0;36mTensor.backward\u001B[1;34m(self, gradient, retain_graph, create_graph, inputs)\u001B[0m\n\u001B[0;32m    477\u001B[0m \u001B[38;5;28;01mif\u001B[39;00m has_torch_function_unary(\u001B[38;5;28mself\u001B[39m):\n\u001B[0;32m    478\u001B[0m     \u001B[38;5;28;01mreturn\u001B[39;00m handle_torch_function(\n\u001B[0;32m    479\u001B[0m         Tensor\u001B[38;5;241m.\u001B[39mbackward,\n\u001B[0;32m    480\u001B[0m         (\u001B[38;5;28mself\u001B[39m,),\n\u001B[1;32m   (...)\u001B[0m\n\u001B[0;32m    485\u001B[0m         inputs\u001B[38;5;241m=\u001B[39minputs,\n\u001B[0;32m    486\u001B[0m     )\n\u001B[1;32m--> 487\u001B[0m \u001B[43mtorch\u001B[49m\u001B[38;5;241;43m.\u001B[39;49m\u001B[43mautograd\u001B[49m\u001B[38;5;241;43m.\u001B[39;49m\u001B[43mbackward\u001B[49m\u001B[43m(\u001B[49m\n\u001B[0;32m    488\u001B[0m \u001B[43m    \u001B[49m\u001B[38;5;28;43mself\u001B[39;49m\u001B[43m,\u001B[49m\u001B[43m \u001B[49m\u001B[43mgradient\u001B[49m\u001B[43m,\u001B[49m\u001B[43m \u001B[49m\u001B[43mretain_graph\u001B[49m\u001B[43m,\u001B[49m\u001B[43m \u001B[49m\u001B[43mcreate_graph\u001B[49m\u001B[43m,\u001B[49m\u001B[43m \u001B[49m\u001B[43minputs\u001B[49m\u001B[38;5;241;43m=\u001B[39;49m\u001B[43minputs\u001B[49m\n\u001B[0;32m    489\u001B[0m \u001B[43m\u001B[49m\u001B[43m)\u001B[49m\n",
      "File \u001B[1;32m~\\Anaconda3\\envs\\first_pytorch_solution\\lib\\site-packages\\torch\\autograd\\__init__.py:197\u001B[0m, in \u001B[0;36mbackward\u001B[1;34m(tensors, grad_tensors, retain_graph, create_graph, grad_variables, inputs)\u001B[0m\n\u001B[0;32m    192\u001B[0m     retain_graph \u001B[38;5;241m=\u001B[39m create_graph\n\u001B[0;32m    194\u001B[0m \u001B[38;5;66;03m# The reason we repeat same the comment below is that\u001B[39;00m\n\u001B[0;32m    195\u001B[0m \u001B[38;5;66;03m# some Python versions print out the first line of a multi-line function\u001B[39;00m\n\u001B[0;32m    196\u001B[0m \u001B[38;5;66;03m# calls in the traceback and some print out the last line\u001B[39;00m\n\u001B[1;32m--> 197\u001B[0m \u001B[43mVariable\u001B[49m\u001B[38;5;241;43m.\u001B[39;49m\u001B[43m_execution_engine\u001B[49m\u001B[38;5;241;43m.\u001B[39;49m\u001B[43mrun_backward\u001B[49m\u001B[43m(\u001B[49m\u001B[43m  \u001B[49m\u001B[38;5;66;43;03m# Calls into the C++ engine to run the backward pass\u001B[39;49;00m\n\u001B[0;32m    198\u001B[0m \u001B[43m    \u001B[49m\u001B[43mtensors\u001B[49m\u001B[43m,\u001B[49m\u001B[43m \u001B[49m\u001B[43mgrad_tensors_\u001B[49m\u001B[43m,\u001B[49m\u001B[43m \u001B[49m\u001B[43mretain_graph\u001B[49m\u001B[43m,\u001B[49m\u001B[43m \u001B[49m\u001B[43mcreate_graph\u001B[49m\u001B[43m,\u001B[49m\u001B[43m \u001B[49m\u001B[43minputs\u001B[49m\u001B[43m,\u001B[49m\n\u001B[0;32m    199\u001B[0m \u001B[43m    \u001B[49m\u001B[43mallow_unreachable\u001B[49m\u001B[38;5;241;43m=\u001B[39;49m\u001B[38;5;28;43;01mTrue\u001B[39;49;00m\u001B[43m,\u001B[49m\u001B[43m \u001B[49m\u001B[43maccumulate_grad\u001B[49m\u001B[38;5;241;43m=\u001B[39;49m\u001B[38;5;28;43;01mTrue\u001B[39;49;00m\u001B[43m)\u001B[49m\n",
      "\u001B[1;31mKeyboardInterrupt\u001B[0m: "
     ]
    }
   ],
   "source": [
    "train_data = fit(model, optimizer, criterion, train_loader, val_loader, 50, decay=0)"
   ],
   "metadata": {
    "collapsed": false,
    "pycharm": {
     "name": "#%%\n"
    }
   }
  },
  {
   "cell_type": "code",
   "execution_count": 16,
   "outputs": [],
   "source": [
    "torch.save({'model':model.state_dict(),'optimizers':optimizer.state_dict()},'../models/model_checkpoint.pt')"
   ],
   "metadata": {
    "collapsed": false,
    "pycharm": {
     "name": "#%%\n"
    }
   }
  },
  {
   "cell_type": "code",
   "execution_count": 45,
   "outputs": [
    {
     "name": "stderr",
     "output_type": "stream",
     "text": [
      "Epoch 0/1 (test): 100%|██████████| 1/1 [00:00<00:00,  1.98it/s, loss=0.225, accuracy=0.867]"
     ]
    },
    {
     "name": "stdout",
     "output_type": "stream",
     "text": [
      "test_loss: 0.2253, test_accuracy: 86.6667%\n"
     ]
    },
    {
     "name": "stderr",
     "output_type": "stream",
     "text": [
      "\n"
     ]
    },
    {
     "data": {
      "text/plain": "(0.22528241574764252, 0.8666666666666667)"
     },
     "execution_count": 45,
     "metadata": {},
     "output_type": "execute_result"
    }
   ],
   "source": [
    "train(model, optimizer, criterion, test_loader,[0,1],0,'test')"
   ],
   "metadata": {
    "collapsed": false,
    "pycharm": {
     "name": "#%%\n"
    }
   }
  }
 ],
 "metadata": {
  "kernelspec": {
   "display_name": "Python 3",
   "language": "python",
   "name": "python3"
  },
  "language_info": {
   "codemirror_mode": {
    "name": "ipython",
    "version": 2
   },
   "file_extension": ".py",
   "mimetype": "text/x-python",
   "name": "python",
   "nbconvert_exporter": "python",
   "pygments_lexer": "ipython2",
   "version": "2.7.6"
  }
 },
 "nbformat": 4,
 "nbformat_minor": 0
}